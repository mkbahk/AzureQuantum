{
  "nbformat": 4,
  "nbformat_minor": 0,
  "metadata": {
    "colab": {
      "provenance": [],
      "include_colab_link": true
    },
    "kernelspec": {
      "name": "python3",
      "display_name": "Python 3"
    },
    "language_info": {
      "name": "python"
    }
  },
  "cells": [
    {
      "cell_type": "markdown",
      "metadata": {
        "id": "view-in-github",
        "colab_type": "text"
      },
      "source": [
        "<a href=\"https://colab.research.google.com/github/mkbahk/AzureQuantum/blob/main/External_Access_to_Azure_Quantum_PASQAL_mkbahk_20250624.ipynb\" target=\"_parent\"><img src=\"https://colab.research.google.com/assets/colab-badge.svg\" alt=\"Open In Colab\"/></a>"
      ]
    },
    {
      "cell_type": "code",
      "source": [
        "#!pip install git+https://github.com/microsoft/azure-quantum-python.git"
      ],
      "metadata": {
        "id": "GceenCP-KoaE",
        "outputId": "9a24fd64-198a-4b6a-bb19-07ca50084136",
        "colab": {
          "base_uri": "https://localhost:8080/"
        }
      },
      "execution_count": 10,
      "outputs": [
        {
          "output_type": "stream",
          "name": "stdout",
          "text": [
            "Collecting git+https://github.com/microsoft/azure-quantum-python.git\n",
            "  Cloning https://github.com/microsoft/azure-quantum-python.git to /tmp/pip-req-build-th49q0v6\n",
            "  Running command git clone --filter=blob:none --quiet https://github.com/microsoft/azure-quantum-python.git /tmp/pip-req-build-th49q0v6\n",
            "  Resolved https://github.com/microsoft/azure-quantum-python.git to commit 57cf7aa8cdb8a1447b38cf9517975c95df9f92cc\n",
            "\u001b[31mERROR: git+https://github.com/microsoft/azure-quantum-python.git does not appear to be a Python project: neither 'setup.py' nor 'pyproject.toml' found.\u001b[0m\u001b[31m\n",
            "\u001b[0m"
          ]
        }
      ]
    },
    {
      "cell_type": "code",
      "execution_count": 1,
      "metadata": {
        "colab": {
          "base_uri": "https://localhost:8080/",
          "height": 1000
        },
        "id": "7SvhhzmlRgZ9",
        "outputId": "90e988ad-ed67-400c-8d73-6bbf37c793f7"
      },
      "outputs": [
        {
          "output_type": "stream",
          "name": "stdout",
          "text": [
            "Requirement already satisfied: pip in /usr/local/lib/python3.11/dist-packages (24.1.2)\n",
            "Collecting pip\n",
            "  Downloading pip-25.1.1-py3-none-any.whl.metadata (3.6 kB)\n",
            "Downloading pip-25.1.1-py3-none-any.whl (1.8 MB)\n",
            "\u001b[2K   \u001b[90m━━━━━━━━━━━━━━━━━━━━━━━━━━━━━━━━━━━━━━━━\u001b[0m \u001b[32m1.8/1.8 MB\u001b[0m \u001b[31m13.4 MB/s\u001b[0m eta \u001b[36m0:00:00\u001b[0m\n",
            "\u001b[?25hInstalling collected packages: pip\n",
            "  Attempting uninstall: pip\n",
            "    Found existing installation: pip 24.1.2\n",
            "    Uninstalling pip-24.1.2:\n",
            "      Successfully uninstalled pip-24.1.2\n",
            "Successfully installed pip-25.1.1\n",
            "Collecting qiskit==1.4.3 (from qiskit[visualization]==1.4.3)\n",
            "  Downloading qiskit-1.4.3-cp39-abi3-manylinux_2_17_x86_64.manylinux2014_x86_64.whl.metadata (12 kB)\n",
            "Collecting rustworkx>=0.15.0 (from qiskit==1.4.3->qiskit[visualization]==1.4.3)\n",
            "  Downloading rustworkx-0.16.0-cp39-abi3-manylinux_2_17_x86_64.manylinux2014_x86_64.whl.metadata (10 kB)\n",
            "Requirement already satisfied: numpy<3,>=1.17 in /usr/local/lib/python3.11/dist-packages (from qiskit==1.4.3->qiskit[visualization]==1.4.3) (2.0.2)\n",
            "Requirement already satisfied: scipy>=1.5 in /usr/local/lib/python3.11/dist-packages (from qiskit==1.4.3->qiskit[visualization]==1.4.3) (1.15.3)\n",
            "Requirement already satisfied: sympy>=1.3 in /usr/local/lib/python3.11/dist-packages (from qiskit==1.4.3->qiskit[visualization]==1.4.3) (1.13.1)\n",
            "Requirement already satisfied: dill>=0.3 in /usr/local/lib/python3.11/dist-packages (from qiskit==1.4.3->qiskit[visualization]==1.4.3) (0.3.7)\n",
            "Requirement already satisfied: python-dateutil>=2.8.0 in /usr/local/lib/python3.11/dist-packages (from qiskit==1.4.3->qiskit[visualization]==1.4.3) (2.9.0.post0)\n",
            "Collecting stevedore>=3.0.0 (from qiskit==1.4.3->qiskit[visualization]==1.4.3)\n",
            "  Downloading stevedore-5.4.1-py3-none-any.whl.metadata (2.3 kB)\n",
            "Requirement already satisfied: typing-extensions in /usr/local/lib/python3.11/dist-packages (from qiskit==1.4.3->qiskit[visualization]==1.4.3) (4.14.0)\n",
            "Collecting symengine<0.14,>=0.11 (from qiskit==1.4.3->qiskit[visualization]==1.4.3)\n",
            "  Downloading symengine-0.13.0-cp311-cp311-manylinux_2_17_x86_64.manylinux2014_x86_64.whl.metadata (1.2 kB)\n",
            "Requirement already satisfied: matplotlib>=3.3 in /usr/local/lib/python3.11/dist-packages (from qiskit[visualization]==1.4.3) (3.10.0)\n",
            "Requirement already satisfied: pydot in /usr/local/lib/python3.11/dist-packages (from qiskit[visualization]==1.4.3) (3.0.4)\n",
            "Requirement already satisfied: Pillow>=4.2.1 in /usr/local/lib/python3.11/dist-packages (from qiskit[visualization]==1.4.3) (11.2.1)\n",
            "Collecting pylatexenc>=1.4 (from qiskit[visualization]==1.4.3)\n",
            "  Downloading pylatexenc-2.10.tar.gz (162 kB)\n",
            "  Preparing metadata (setup.py) ... \u001b[?25l\u001b[?25hdone\n",
            "Requirement already satisfied: seaborn>=0.9.0 in /usr/local/lib/python3.11/dist-packages (from qiskit[visualization]==1.4.3) (0.13.2)\n",
            "Requirement already satisfied: contourpy>=1.0.1 in /usr/local/lib/python3.11/dist-packages (from matplotlib>=3.3->qiskit[visualization]==1.4.3) (1.3.2)\n",
            "Requirement already satisfied: cycler>=0.10 in /usr/local/lib/python3.11/dist-packages (from matplotlib>=3.3->qiskit[visualization]==1.4.3) (0.12.1)\n",
            "Requirement already satisfied: fonttools>=4.22.0 in /usr/local/lib/python3.11/dist-packages (from matplotlib>=3.3->qiskit[visualization]==1.4.3) (4.58.4)\n",
            "Requirement already satisfied: kiwisolver>=1.3.1 in /usr/local/lib/python3.11/dist-packages (from matplotlib>=3.3->qiskit[visualization]==1.4.3) (1.4.8)\n",
            "Requirement already satisfied: packaging>=20.0 in /usr/local/lib/python3.11/dist-packages (from matplotlib>=3.3->qiskit[visualization]==1.4.3) (24.2)\n",
            "Requirement already satisfied: pyparsing>=2.3.1 in /usr/local/lib/python3.11/dist-packages (from matplotlib>=3.3->qiskit[visualization]==1.4.3) (3.2.3)\n",
            "Requirement already satisfied: six>=1.5 in /usr/local/lib/python3.11/dist-packages (from python-dateutil>=2.8.0->qiskit==1.4.3->qiskit[visualization]==1.4.3) (1.17.0)\n",
            "Requirement already satisfied: pandas>=1.2 in /usr/local/lib/python3.11/dist-packages (from seaborn>=0.9.0->qiskit[visualization]==1.4.3) (2.2.2)\n",
            "Requirement already satisfied: pytz>=2020.1 in /usr/local/lib/python3.11/dist-packages (from pandas>=1.2->seaborn>=0.9.0->qiskit[visualization]==1.4.3) (2025.2)\n",
            "Requirement already satisfied: tzdata>=2022.7 in /usr/local/lib/python3.11/dist-packages (from pandas>=1.2->seaborn>=0.9.0->qiskit[visualization]==1.4.3) (2025.2)\n",
            "Collecting pbr>=2.0.0 (from stevedore>=3.0.0->qiskit==1.4.3->qiskit[visualization]==1.4.3)\n",
            "  Downloading pbr-6.1.1-py2.py3-none-any.whl.metadata (3.4 kB)\n",
            "Requirement already satisfied: setuptools in /usr/local/lib/python3.11/dist-packages (from pbr>=2.0.0->stevedore>=3.0.0->qiskit==1.4.3->qiskit[visualization]==1.4.3) (75.2.0)\n",
            "Requirement already satisfied: mpmath<1.4,>=1.1.0 in /usr/local/lib/python3.11/dist-packages (from sympy>=1.3->qiskit==1.4.3->qiskit[visualization]==1.4.3) (1.3.0)\n",
            "Downloading qiskit-1.4.3-cp39-abi3-manylinux_2_17_x86_64.manylinux2014_x86_64.whl (6.8 MB)\n",
            "\u001b[2K   \u001b[90m━━━━━━━━━━━━━━━━━━━━━━━━━━━━━━━━━━━━━━━━\u001b[0m \u001b[32m6.8/6.8 MB\u001b[0m \u001b[31m71.0 MB/s\u001b[0m eta \u001b[36m0:00:00\u001b[0m\n",
            "\u001b[?25hDownloading symengine-0.13.0-cp311-cp311-manylinux_2_17_x86_64.manylinux2014_x86_64.whl (49.7 MB)\n",
            "\u001b[2K   \u001b[90m━━━━━━━━━━━━━━━━━━━━━━━━━━━━━━━━━━━━━━━━\u001b[0m \u001b[32m49.7/49.7 MB\u001b[0m \u001b[31m67.5 MB/s\u001b[0m eta \u001b[36m0:00:00\u001b[0m\n",
            "\u001b[?25hDownloading rustworkx-0.16.0-cp39-abi3-manylinux_2_17_x86_64.manylinux2014_x86_64.whl (2.1 MB)\n",
            "\u001b[2K   \u001b[90m━━━━━━━━━━━━━━━━━━━━━━━━━━━━━━━━━━━━━━━━\u001b[0m \u001b[32m2.1/2.1 MB\u001b[0m \u001b[31m66.6 MB/s\u001b[0m eta \u001b[36m0:00:00\u001b[0m\n",
            "\u001b[?25hDownloading stevedore-5.4.1-py3-none-any.whl (49 kB)\n",
            "Downloading pbr-6.1.1-py2.py3-none-any.whl (108 kB)\n",
            "Building wheels for collected packages: pylatexenc\n",
            "\u001b[33m  DEPRECATION: Building 'pylatexenc' using the legacy setup.py bdist_wheel mechanism, which will be removed in a future version. pip 25.3 will enforce this behaviour change. A possible replacement is to use the standardized build interface by setting the `--use-pep517` option, (possibly combined with `--no-build-isolation`), or adding a `pyproject.toml` file to the source tree of 'pylatexenc'. Discussion can be found at https://github.com/pypa/pip/issues/6334\u001b[0m\u001b[33m\n",
            "\u001b[0m  Building wheel for pylatexenc (setup.py) ... \u001b[?25l\u001b[?25hdone\n",
            "  Created wheel for pylatexenc: filename=pylatexenc-2.10-py3-none-any.whl size=136817 sha256=ea209a712f377843a0a4c2e2270cee9b0829071db878ad4540e38aad170288ee\n",
            "  Stored in directory: /root/.cache/pip/wheels/b1/7a/33/9fdd892f784ed4afda62b685ae3703adf4c91aa0f524c28f03\n",
            "Successfully built pylatexenc\n",
            "Installing collected packages: pylatexenc, symengine, rustworkx, pbr, stevedore, qiskit\n",
            "\u001b[2K   \u001b[90m━━━━━━━━━━━━━━━━━━━━━━━━━━━━━━━━━━━━━━━━\u001b[0m \u001b[32m6/6\u001b[0m [qiskit]\n",
            "\u001b[1A\u001b[2KSuccessfully installed pbr-6.1.1 pylatexenc-2.10 qiskit-1.4.3 rustworkx-0.16.0 stevedore-5.4.1 symengine-0.13.0\n",
            "Collecting azure-quantum==3.1.0 (from azure-quantum[qiskit]==3.1.0)\n",
            "  Downloading azure_quantum-3.1.0-py3-none-any.whl.metadata (7.4 kB)\n",
            "Collecting azure-core<2.0,>=1.30 (from azure-quantum==3.1.0->azure-quantum[qiskit]==3.1.0)\n",
            "  Downloading azure_core-1.35.0-py3-none-any.whl.metadata (44 kB)\n",
            "Collecting azure-identity<2.0,>=1.17 (from azure-quantum==3.1.0->azure-quantum[qiskit]==3.1.0)\n",
            "  Downloading azure_identity-1.23.0-py3-none-any.whl.metadata (81 kB)\n",
            "Collecting azure-storage-blob==12.20 (from azure-quantum==3.1.0->azure-quantum[qiskit]==3.1.0)\n",
            "  Downloading azure_storage_blob-12.20.0-py3-none-any.whl.metadata (26 kB)\n",
            "Collecting msrest<1.0,>=0.7.1 (from azure-quantum==3.1.0->azure-quantum[qiskit]==3.1.0)\n",
            "  Downloading msrest-0.7.1-py3-none-any.whl.metadata (21 kB)\n",
            "Collecting numpy<2.0,>=1.21.0 (from azure-quantum==3.1.0->azure-quantum[qiskit]==3.1.0)\n",
            "  Downloading numpy-1.26.4-cp311-cp311-manylinux_2_17_x86_64.manylinux2014_x86_64.whl.metadata (61 kB)\n",
            "Collecting deprecated<2.0,>=1.2.12 (from azure-quantum==3.1.0->azure-quantum[qiskit]==3.1.0)\n",
            "  Downloading Deprecated-1.2.18-py2.py3-none-any.whl.metadata (5.7 kB)\n",
            "Requirement already satisfied: Markdown>=3.4.1 in /usr/local/lib/python3.11/dist-packages (from azure-quantum==3.1.0->azure-quantum[qiskit]==3.1.0) (3.8.2)\n",
            "Collecting python-markdown-math>=0.8 (from azure-quantum==3.1.0->azure-quantum[qiskit]==3.1.0)\n",
            "  Downloading python_markdown_math-0.9-py3-none-any.whl.metadata (4.5 kB)\n",
            "Collecting qiskit-ionq<0.6,>=0.5 (from azure-quantum[qiskit]==3.1.0)\n",
            "  Downloading qiskit_ionq-0.5.13-py3-none-any.whl.metadata (8.1 kB)\n",
            "Collecting qsharp<2.0,>=1.9.0 (from qsharp[qiskit]<2.0,>=1.9.0; extra == \"qiskit\"->azure-quantum[qiskit]==3.1.0)\n",
            "  Downloading qsharp-1.18.0-cp39-abi3-manylinux_2_35_x86_64.whl.metadata (2.6 kB)\n",
            "Collecting pyqir<0.11,>=0.10.6 (from azure-quantum[qiskit]==3.1.0)\n",
            "  Downloading pyqir-0.10.9-cp38-abi3-manylinux_2_31_x86_64.whl.metadata (4.2 kB)\n",
            "Requirement already satisfied: cryptography>=2.1.4 in /usr/local/lib/python3.11/dist-packages (from azure-storage-blob==12.20->azure-quantum==3.1.0->azure-quantum[qiskit]==3.1.0) (43.0.3)\n",
            "Requirement already satisfied: typing-extensions>=4.6.0 in /usr/local/lib/python3.11/dist-packages (from azure-storage-blob==12.20->azure-quantum==3.1.0->azure-quantum[qiskit]==3.1.0) (4.14.0)\n",
            "Collecting isodate>=0.6.1 (from azure-storage-blob==12.20->azure-quantum==3.1.0->azure-quantum[qiskit]==3.1.0)\n",
            "  Downloading isodate-0.7.2-py3-none-any.whl.metadata (11 kB)\n",
            "Requirement already satisfied: requests>=2.21.0 in /usr/local/lib/python3.11/dist-packages (from azure-core<2.0,>=1.30->azure-quantum==3.1.0->azure-quantum[qiskit]==3.1.0) (2.32.3)\n",
            "Requirement already satisfied: six>=1.11.0 in /usr/local/lib/python3.11/dist-packages (from azure-core<2.0,>=1.30->azure-quantum==3.1.0->azure-quantum[qiskit]==3.1.0) (1.17.0)\n",
            "Collecting msal>=1.30.0 (from azure-identity<2.0,>=1.17->azure-quantum==3.1.0->azure-quantum[qiskit]==3.1.0)\n",
            "  Downloading msal-1.32.3-py3-none-any.whl.metadata (11 kB)\n",
            "Collecting msal-extensions>=1.2.0 (from azure-identity<2.0,>=1.17->azure-quantum==3.1.0->azure-quantum[qiskit]==3.1.0)\n",
            "  Downloading msal_extensions-1.3.1-py3-none-any.whl.metadata (7.8 kB)\n",
            "Requirement already satisfied: wrapt<2,>=1.10 in /usr/local/lib/python3.11/dist-packages (from deprecated<2.0,>=1.2.12->azure-quantum==3.1.0->azure-quantum[qiskit]==3.1.0) (1.17.2)\n",
            "Requirement already satisfied: certifi>=2017.4.17 in /usr/local/lib/python3.11/dist-packages (from msrest<1.0,>=0.7.1->azure-quantum==3.1.0->azure-quantum[qiskit]==3.1.0) (2025.6.15)\n",
            "Requirement already satisfied: requests-oauthlib>=0.5.0 in /usr/local/lib/python3.11/dist-packages (from msrest<1.0,>=0.7.1->azure-quantum==3.1.0->azure-quantum[qiskit]==3.1.0) (2.0.0)\n",
            "Collecting decorator>=5.1.0 (from qiskit-ionq<0.6,>=0.5->azure-quantum[qiskit]==3.1.0)\n",
            "  Downloading decorator-5.2.1-py3-none-any.whl.metadata (3.9 kB)\n",
            "Requirement already satisfied: importlib-metadata>=4.11.4 in /usr/local/lib/python3.11/dist-packages (from qiskit-ionq<0.6,>=0.5->azure-quantum[qiskit]==3.1.0) (8.7.0)\n",
            "Collecting python-dotenv>=1.0.1 (from qiskit-ionq<0.6,>=0.5->azure-quantum[qiskit]==3.1.0)\n",
            "  Downloading python_dotenv-1.1.1-py3-none-any.whl.metadata (24 kB)\n",
            "Requirement already satisfied: qiskit<2.0.0 in /usr/local/lib/python3.11/dist-packages (from qiskit-ionq<0.6,>=0.5->azure-quantum[qiskit]==3.1.0) (1.4.3)\n",
            "Requirement already satisfied: rustworkx>=0.15.0 in /usr/local/lib/python3.11/dist-packages (from qiskit<2.0.0->qiskit-ionq<0.6,>=0.5->azure-quantum[qiskit]==3.1.0) (0.16.0)\n",
            "Requirement already satisfied: scipy>=1.5 in /usr/local/lib/python3.11/dist-packages (from qiskit<2.0.0->qiskit-ionq<0.6,>=0.5->azure-quantum[qiskit]==3.1.0) (1.15.3)\n",
            "Requirement already satisfied: sympy>=1.3 in /usr/local/lib/python3.11/dist-packages (from qiskit<2.0.0->qiskit-ionq<0.6,>=0.5->azure-quantum[qiskit]==3.1.0) (1.13.1)\n",
            "Requirement already satisfied: dill>=0.3 in /usr/local/lib/python3.11/dist-packages (from qiskit<2.0.0->qiskit-ionq<0.6,>=0.5->azure-quantum[qiskit]==3.1.0) (0.3.7)\n",
            "Requirement already satisfied: python-dateutil>=2.8.0 in /usr/local/lib/python3.11/dist-packages (from qiskit<2.0.0->qiskit-ionq<0.6,>=0.5->azure-quantum[qiskit]==3.1.0) (2.9.0.post0)\n",
            "Requirement already satisfied: stevedore>=3.0.0 in /usr/local/lib/python3.11/dist-packages (from qiskit<2.0.0->qiskit-ionq<0.6,>=0.5->azure-quantum[qiskit]==3.1.0) (5.4.1)\n",
            "Requirement already satisfied: symengine<0.14,>=0.11 in /usr/local/lib/python3.11/dist-packages (from qiskit<2.0.0->qiskit-ionq<0.6,>=0.5->azure-quantum[qiskit]==3.1.0) (0.13.0)\n",
            "Requirement already satisfied: charset-normalizer<4,>=2 in /usr/local/lib/python3.11/dist-packages (from requests>=2.21.0->azure-core<2.0,>=1.30->azure-quantum==3.1.0->azure-quantum[qiskit]==3.1.0) (3.4.2)\n",
            "Requirement already satisfied: idna<4,>=2.5 in /usr/local/lib/python3.11/dist-packages (from requests>=2.21.0->azure-core<2.0,>=1.30->azure-quantum==3.1.0->azure-quantum[qiskit]==3.1.0) (3.10)\n",
            "Requirement already satisfied: urllib3<3,>=1.21.1 in /usr/local/lib/python3.11/dist-packages (from requests>=2.21.0->azure-core<2.0,>=1.30->azure-quantum==3.1.0->azure-quantum[qiskit]==3.1.0) (2.4.0)\n",
            "Requirement already satisfied: cffi>=1.12 in /usr/local/lib/python3.11/dist-packages (from cryptography>=2.1.4->azure-storage-blob==12.20->azure-quantum==3.1.0->azure-quantum[qiskit]==3.1.0) (1.17.1)\n",
            "Requirement already satisfied: pycparser in /usr/local/lib/python3.11/dist-packages (from cffi>=1.12->cryptography>=2.1.4->azure-storage-blob==12.20->azure-quantum==3.1.0->azure-quantum[qiskit]==3.1.0) (2.22)\n",
            "Requirement already satisfied: zipp>=3.20 in /usr/local/lib/python3.11/dist-packages (from importlib-metadata>=4.11.4->qiskit-ionq<0.6,>=0.5->azure-quantum[qiskit]==3.1.0) (3.23.0)\n",
            "Requirement already satisfied: PyJWT<3,>=1.0.0 in /usr/local/lib/python3.11/dist-packages (from PyJWT[crypto]<3,>=1.0.0->msal>=1.30.0->azure-identity<2.0,>=1.17->azure-quantum==3.1.0->azure-quantum[qiskit]==3.1.0) (2.10.1)\n",
            "Requirement already satisfied: oauthlib>=3.0.0 in /usr/local/lib/python3.11/dist-packages (from requests-oauthlib>=0.5.0->msrest<1.0,>=0.7.1->azure-quantum==3.1.0->azure-quantum[qiskit]==3.1.0) (3.3.1)\n",
            "Requirement already satisfied: pbr>=2.0.0 in /usr/local/lib/python3.11/dist-packages (from stevedore>=3.0.0->qiskit<2.0.0->qiskit-ionq<0.6,>=0.5->azure-quantum[qiskit]==3.1.0) (6.1.1)\n",
            "Requirement already satisfied: setuptools in /usr/local/lib/python3.11/dist-packages (from pbr>=2.0.0->stevedore>=3.0.0->qiskit<2.0.0->qiskit-ionq<0.6,>=0.5->azure-quantum[qiskit]==3.1.0) (75.2.0)\n",
            "Requirement already satisfied: mpmath<1.4,>=1.1.0 in /usr/local/lib/python3.11/dist-packages (from sympy>=1.3->qiskit<2.0.0->qiskit-ionq<0.6,>=0.5->azure-quantum[qiskit]==3.1.0) (1.3.0)\n",
            "Downloading azure_quantum-3.1.0-py3-none-any.whl (146 kB)\n",
            "Downloading azure_storage_blob-12.20.0-py3-none-any.whl (392 kB)\n",
            "Downloading azure_core-1.35.0-py3-none-any.whl (210 kB)\n",
            "Downloading azure_identity-1.23.0-py3-none-any.whl (186 kB)\n",
            "Downloading Deprecated-1.2.18-py2.py3-none-any.whl (10.0 kB)\n",
            "Downloading msrest-0.7.1-py3-none-any.whl (85 kB)\n",
            "Downloading numpy-1.26.4-cp311-cp311-manylinux_2_17_x86_64.manylinux2014_x86_64.whl (18.3 MB)\n",
            "\u001b[2K   \u001b[90m━━━━━━━━━━━━━━━━━━━━━━━━━━━━━━━━━━━━━━━━\u001b[0m \u001b[32m18.3/18.3 MB\u001b[0m \u001b[31m105.1 MB/s\u001b[0m eta \u001b[36m0:00:00\u001b[0m\n",
            "\u001b[?25hDownloading pyqir-0.10.9-cp38-abi3-manylinux_2_31_x86_64.whl (2.3 MB)\n",
            "\u001b[2K   \u001b[90m━━━━━━━━━━━━━━━━━━━━━━━━━━━━━━━━━━━━━━━━\u001b[0m \u001b[32m2.3/2.3 MB\u001b[0m \u001b[31m80.6 MB/s\u001b[0m eta \u001b[36m0:00:00\u001b[0m\n",
            "\u001b[?25hDownloading python_markdown_math-0.9-py3-none-any.whl (6.0 kB)\n",
            "Downloading qiskit_ionq-0.5.13-py3-none-any.whl (47 kB)\n",
            "Downloading qsharp-1.18.0-cp39-abi3-manylinux_2_35_x86_64.whl (3.2 MB)\n",
            "\u001b[2K   \u001b[90m━━━━━━━━━━━━━━━━━━━━━━━━━━━━━━━━━━━━━━━━\u001b[0m \u001b[32m3.2/3.2 MB\u001b[0m \u001b[31m85.0 MB/s\u001b[0m eta \u001b[36m0:00:00\u001b[0m\n",
            "\u001b[?25hDownloading decorator-5.2.1-py3-none-any.whl (9.2 kB)\n",
            "Downloading isodate-0.7.2-py3-none-any.whl (22 kB)\n",
            "Downloading msal-1.32.3-py3-none-any.whl (115 kB)\n",
            "Downloading msal_extensions-1.3.1-py3-none-any.whl (20 kB)\n",
            "Downloading python_dotenv-1.1.1-py3-none-any.whl (20 kB)\n",
            "Installing collected packages: qsharp, python-markdown-math, python-dotenv, pyqir, numpy, isodate, deprecated, decorator, azure-core, msrest, azure-storage-blob, qiskit-ionq, msal, msal-extensions, azure-identity, azure-quantum\n",
            "\u001b[2K  Attempting uninstall: numpy\n",
            "\u001b[2K    Found existing installation: numpy 2.0.2\n",
            "\u001b[2K    Uninstalling numpy-2.0.2:\n",
            "\u001b[2K      Successfully uninstalled numpy-2.0.2\n",
            "\u001b[2K  Attempting uninstall: decorator\n",
            "\u001b[2K    Found existing installation: decorator 4.4.2\n",
            "\u001b[2K    Uninstalling decorator-4.4.2:\n",
            "\u001b[2K      Successfully uninstalled decorator-4.4.2\n",
            "\u001b[2K   \u001b[90m━━━━━━━━━━━━━━━━━━━━━━━━━━━━━━━━━━━━━━━━\u001b[0m \u001b[32m16/16\u001b[0m [azure-quantum]\n",
            "\u001b[1A\u001b[2K\u001b[31mERROR: pip's dependency resolver does not currently take into account all the packages that are installed. This behaviour is the source of the following dependency conflicts.\n",
            "ipython 7.34.0 requires jedi>=0.16, which is not installed.\n",
            "thinc 8.3.6 requires numpy<3.0.0,>=2.0.0, but you have numpy 1.26.4 which is incompatible.\n",
            "moviepy 1.0.3 requires decorator<5.0,>=4.0.2, but you have decorator 5.2.1 which is incompatible.\u001b[0m\u001b[31m\n",
            "\u001b[0mSuccessfully installed azure-core-1.35.0 azure-identity-1.23.0 azure-quantum-3.1.0 azure-storage-blob-12.20.0 decorator-5.2.1 deprecated-1.2.18 isodate-0.7.2 msal-1.32.3 msal-extensions-1.3.1 msrest-0.7.1 numpy-1.26.4 pyqir-0.10.9 python-dotenv-1.1.1 python-markdown-math-0.9 qiskit-ionq-0.5.13 qsharp-1.18.0\n"
          ]
        },
        {
          "output_type": "display_data",
          "data": {
            "application/vnd.colab-display-data+json": {
              "pip_warning": {
                "packages": [
                  "decorator",
                  "numpy"
                ]
              },
              "id": "54f796724eec46928e0306151cb19163"
            }
          },
          "metadata": {}
        }
      ],
      "source": [
        "!pip install -U pip\n",
        "!pip install qiskit[visualization]==1.4.3\n",
        "!pip install azure-quantum[qiskit]==3.1.0"
      ]
    },
    {
      "cell_type": "code",
      "source": [
        "!pip install pulser-simulation #Only for using the local Qutip emulator included in Pulser\n",
        "!pip install pulser-core"
      ],
      "metadata": {
        "colab": {
          "base_uri": "https://localhost:8080/"
        },
        "id": "H2ZeQhMnV0bm",
        "outputId": "027a2284-043e-4cba-ca85-0cf9b48b782f"
      },
      "execution_count": 1,
      "outputs": [
        {
          "output_type": "stream",
          "name": "stdout",
          "text": [
            "Requirement already satisfied: pulser-simulation in /usr/local/lib/python3.11/dist-packages (1.5.4)\n",
            "Requirement already satisfied: qutip<6,>=5 in /usr/local/lib/python3.11/dist-packages (from pulser-simulation) (5.2.0)\n",
            "Requirement already satisfied: pulser-core==1.5.4 in /usr/local/lib/python3.11/dist-packages (from pulser-simulation) (1.5.4)\n",
            "Requirement already satisfied: jsonschema<5,>=4.17.3 in /usr/local/lib/python3.11/dist-packages (from pulser-core==1.5.4->pulser-simulation) (4.24.0)\n",
            "Requirement already satisfied: referencing in /usr/local/lib/python3.11/dist-packages (from pulser-core==1.5.4->pulser-simulation) (0.36.2)\n",
            "Requirement already satisfied: matplotlib<4 in /usr/local/lib/python3.11/dist-packages (from pulser-core==1.5.4->pulser-simulation) (3.10.0)\n",
            "Requirement already satisfied: packaging in /usr/local/lib/python3.11/dist-packages (from pulser-core==1.5.4->pulser-simulation) (24.2)\n",
            "Requirement already satisfied: numpy!=1.24.0,>=1.20 in /usr/local/lib/python3.11/dist-packages (from pulser-core==1.5.4->pulser-simulation) (1.26.4)\n",
            "Requirement already satisfied: scipy<2 in /usr/local/lib/python3.11/dist-packages (from pulser-core==1.5.4->pulser-simulation) (1.15.3)\n",
            "Requirement already satisfied: attrs>=22.2.0 in /usr/local/lib/python3.11/dist-packages (from jsonschema<5,>=4.17.3->pulser-core==1.5.4->pulser-simulation) (25.3.0)\n",
            "Requirement already satisfied: jsonschema-specifications>=2023.03.6 in /usr/local/lib/python3.11/dist-packages (from jsonschema<5,>=4.17.3->pulser-core==1.5.4->pulser-simulation) (2025.4.1)\n",
            "Requirement already satisfied: rpds-py>=0.7.1 in /usr/local/lib/python3.11/dist-packages (from jsonschema<5,>=4.17.3->pulser-core==1.5.4->pulser-simulation) (0.26.0)\n",
            "Requirement already satisfied: contourpy>=1.0.1 in /usr/local/lib/python3.11/dist-packages (from matplotlib<4->pulser-core==1.5.4->pulser-simulation) (1.3.2)\n",
            "Requirement already satisfied: cycler>=0.10 in /usr/local/lib/python3.11/dist-packages (from matplotlib<4->pulser-core==1.5.4->pulser-simulation) (0.12.1)\n",
            "Requirement already satisfied: fonttools>=4.22.0 in /usr/local/lib/python3.11/dist-packages (from matplotlib<4->pulser-core==1.5.4->pulser-simulation) (4.58.4)\n",
            "Requirement already satisfied: kiwisolver>=1.3.1 in /usr/local/lib/python3.11/dist-packages (from matplotlib<4->pulser-core==1.5.4->pulser-simulation) (1.4.8)\n",
            "Requirement already satisfied: pillow>=8 in /usr/local/lib/python3.11/dist-packages (from matplotlib<4->pulser-core==1.5.4->pulser-simulation) (11.2.1)\n",
            "Requirement already satisfied: pyparsing>=2.3.1 in /usr/local/lib/python3.11/dist-packages (from matplotlib<4->pulser-core==1.5.4->pulser-simulation) (3.2.3)\n",
            "Requirement already satisfied: python-dateutil>=2.7 in /usr/local/lib/python3.11/dist-packages (from matplotlib<4->pulser-core==1.5.4->pulser-simulation) (2.9.0.post0)\n",
            "Requirement already satisfied: six>=1.5 in /usr/local/lib/python3.11/dist-packages (from python-dateutil>=2.7->matplotlib<4->pulser-core==1.5.4->pulser-simulation) (1.17.0)\n",
            "Requirement already satisfied: typing-extensions>=4.4.0 in /usr/local/lib/python3.11/dist-packages (from referencing->pulser-core==1.5.4->pulser-simulation) (4.14.0)\n",
            "Requirement already satisfied: pulser-core in /usr/local/lib/python3.11/dist-packages (1.5.4)\n",
            "Requirement already satisfied: jsonschema<5,>=4.17.3 in /usr/local/lib/python3.11/dist-packages (from pulser-core) (4.24.0)\n",
            "Requirement already satisfied: referencing in /usr/local/lib/python3.11/dist-packages (from pulser-core) (0.36.2)\n",
            "Requirement already satisfied: matplotlib<4 in /usr/local/lib/python3.11/dist-packages (from pulser-core) (3.10.0)\n",
            "Requirement already satisfied: packaging in /usr/local/lib/python3.11/dist-packages (from pulser-core) (24.2)\n",
            "Requirement already satisfied: numpy!=1.24.0,>=1.20 in /usr/local/lib/python3.11/dist-packages (from pulser-core) (1.26.4)\n",
            "Requirement already satisfied: scipy<2 in /usr/local/lib/python3.11/dist-packages (from pulser-core) (1.15.3)\n",
            "Requirement already satisfied: attrs>=22.2.0 in /usr/local/lib/python3.11/dist-packages (from jsonschema<5,>=4.17.3->pulser-core) (25.3.0)\n",
            "Requirement already satisfied: jsonschema-specifications>=2023.03.6 in /usr/local/lib/python3.11/dist-packages (from jsonschema<5,>=4.17.3->pulser-core) (2025.4.1)\n",
            "Requirement already satisfied: rpds-py>=0.7.1 in /usr/local/lib/python3.11/dist-packages (from jsonschema<5,>=4.17.3->pulser-core) (0.26.0)\n",
            "Requirement already satisfied: contourpy>=1.0.1 in /usr/local/lib/python3.11/dist-packages (from matplotlib<4->pulser-core) (1.3.2)\n",
            "Requirement already satisfied: cycler>=0.10 in /usr/local/lib/python3.11/dist-packages (from matplotlib<4->pulser-core) (0.12.1)\n",
            "Requirement already satisfied: fonttools>=4.22.0 in /usr/local/lib/python3.11/dist-packages (from matplotlib<4->pulser-core) (4.58.4)\n",
            "Requirement already satisfied: kiwisolver>=1.3.1 in /usr/local/lib/python3.11/dist-packages (from matplotlib<4->pulser-core) (1.4.8)\n",
            "Requirement already satisfied: pillow>=8 in /usr/local/lib/python3.11/dist-packages (from matplotlib<4->pulser-core) (11.2.1)\n",
            "Requirement already satisfied: pyparsing>=2.3.1 in /usr/local/lib/python3.11/dist-packages (from matplotlib<4->pulser-core) (3.2.3)\n",
            "Requirement already satisfied: python-dateutil>=2.7 in /usr/local/lib/python3.11/dist-packages (from matplotlib<4->pulser-core) (2.9.0.post0)\n",
            "Requirement already satisfied: six>=1.5 in /usr/local/lib/python3.11/dist-packages (from python-dateutil>=2.7->matplotlib<4->pulser-core) (1.17.0)\n",
            "Requirement already satisfied: typing-extensions>=4.4.0 in /usr/local/lib/python3.11/dist-packages (from referencing->pulser-core) (4.14.0)\n"
          ]
        }
      ]
    },
    {
      "cell_type": "code",
      "source": [
        "import pulser\n",
        "from pulser.devices import DigitalAnalogDevice\n",
        "from pulser.waveforms import ConstantWaveform\n",
        "from azure.quantum import Workspace\n",
        "import json\n",
        "\n",
        "# Azure Quantum 작업 공간 설정\n",
        "connection_string = \"\"\n",
        "workspace = Workspace.from_connection_string(connection_string)\n",
        "\n",
        "# PASQAL 시뮬레이터 타겟 설정\n",
        "target = workspace.get_targets(name=\"pasqal.sim.emu-tn\")"
      ],
      "metadata": {
        "id": "o9sfhT_HoFLR"
      },
      "execution_count": 2,
      "outputs": []
    },
    {
      "cell_type": "code",
      "source": [
        "# 2개의 큐bit를 위한 레지스터 정의 (2D 격자)\n",
        "coords = [(0, 0), (10, 0)]  # 10μm 간격으로 두 원자 배치\n",
        "register = pulser.Register.from_coordinates(coords, prefix=\"q\")\n",
        "\n",
        "# 펄스 시퀀스 생성\n",
        "seq = pulser.Sequence(register, DigitalAnalogDevice)\n",
        "\n",
        "# 간단한 펄스: 모든 큐bit에 Rydberg 상태로의 전이를 유도하는 Constant 펄스\n",
        "seq.declare_channel(\"ch0\", \"rydberg_global\")\n",
        "# pulse = ConstantWaveform(duration=1000, value=2.0)  # 1μs 동안 일정한 진폭 2 rad/μs\n",
        "from pulser.pulse import Pulse # Import Pulse from pulser.pulse\n",
        "pulse = Pulse.ConstantPulse(duration=1000, amplitude=2.0, detuning=0.0, phase=0.0) # Create a Pulse object with detuning and phase\n",
        "seq.add(pulse, \"ch0\")"
      ],
      "metadata": {
        "id": "v3ETeWMVocXM"
      },
      "execution_count": 3,
      "outputs": []
    },
    {
      "cell_type": "code",
      "source": [
        "# 펄스 시퀀스를 JSON 형식으로 변환\n",
        "def prepare_input_data(seq):\n",
        "    input_data = {}\n",
        "    input_data[\"sequence_builder\"] = json.loads(seq.to_abstract_repr())\n",
        "    return json.dumps(input_data)\n",
        "###def"
      ],
      "metadata": {
        "id": "ZoQlP9YWoWUi"
      },
      "execution_count": 4,
      "outputs": []
    },
    {
      "cell_type": "code",
      "source": [
        "# 작업 제출\n",
        "job = target.submit(\n",
        "    input_data=prepare_input_data(seq),\n",
        "    input_data_format=\"pasqal.pulser.v1\",\n",
        "    output_data_format=\"pasqal.pulser-results.v1\",\n",
        "    name=\"KOLON-Simple PASQAL Simulation\",\n",
        "    shots=100\n",
        ")"
      ],
      "metadata": {
        "id": "u-3NFSQpoYIQ"
      },
      "execution_count": 5,
      "outputs": []
    },
    {
      "cell_type": "code",
      "source": [
        "# 작업 완료 대기 및 결과 가져오기\n",
        "job.wait_until_completed()\n",
        "result = job.get_results()\n",
        "print(\"\\nSimulation Results:\\n\", result)"
      ],
      "metadata": {
        "colab": {
          "base_uri": "https://localhost:8080/"
        },
        "id": "CDT3p65EoZkN",
        "outputId": "01cd0187-582d-4e33-d923-bb8411ff2798"
      },
      "execution_count": 8,
      "outputs": [
        {
          "output_type": "stream",
          "name": "stdout",
          "text": [
            "\n",
            "Simulation Results:\n",
            " {'10': 52, '01': 41, '11': 6, '00': 1}\n"
          ]
        }
      ]
    }
  ]
}