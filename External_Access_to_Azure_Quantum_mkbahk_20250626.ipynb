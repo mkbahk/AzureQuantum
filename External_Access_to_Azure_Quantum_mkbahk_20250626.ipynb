{
  "nbformat": 4,
  "nbformat_minor": 0,
  "metadata": {
    "colab": {
      "provenance": [],
      "include_colab_link": true
    },
    "kernelspec": {
      "name": "python3",
      "display_name": "Python 3"
    },
    "language_info": {
      "name": "python"
    }
  },
  "cells": [
    {
      "cell_type": "markdown",
      "metadata": {
        "id": "view-in-github",
        "colab_type": "text"
      },
      "source": [
        "<a href=\"https://colab.research.google.com/github/mkbahk/AzureQuantum/blob/main/External_Access_to_Azure_Quantum_mkbahk_20250626.ipynb\" target=\"_parent\"><img src=\"https://colab.research.google.com/assets/colab-badge.svg\" alt=\"Open In Colab\"/></a>"
      ]
    },
    {
      "cell_type": "code",
      "execution_count": null,
      "metadata": {
        "colab": {
          "base_uri": "https://localhost:8080/"
        },
        "id": "7SvhhzmlRgZ9",
        "outputId": "96490b05-acc6-4ae5-bc81-f627820a6f81"
      },
      "outputs": [
        {
          "output_type": "stream",
          "name": "stdout",
          "text": [
            "Requirement already satisfied: pip in /usr/local/lib/python3.11/dist-packages (25.1.1)\n",
            "Requirement already satisfied: qiskit==1.4.3 in /usr/local/lib/python3.11/dist-packages (from qiskit[visualization]==1.4.3) (1.4.3)\n",
            "Requirement already satisfied: rustworkx>=0.15.0 in /usr/local/lib/python3.11/dist-packages (from qiskit==1.4.3->qiskit[visualization]==1.4.3) (0.16.0)\n",
            "Requirement already satisfied: numpy<3,>=1.17 in /usr/local/lib/python3.11/dist-packages (from qiskit==1.4.3->qiskit[visualization]==1.4.3) (1.26.4)\n",
            "Requirement already satisfied: scipy>=1.5 in /usr/local/lib/python3.11/dist-packages (from qiskit==1.4.3->qiskit[visualization]==1.4.3) (1.15.3)\n",
            "Requirement already satisfied: sympy>=1.3 in /usr/local/lib/python3.11/dist-packages (from qiskit==1.4.3->qiskit[visualization]==1.4.3) (1.13.1)\n",
            "Requirement already satisfied: dill>=0.3 in /usr/local/lib/python3.11/dist-packages (from qiskit==1.4.3->qiskit[visualization]==1.4.3) (0.3.7)\n",
            "Requirement already satisfied: python-dateutil>=2.8.0 in /usr/local/lib/python3.11/dist-packages (from qiskit==1.4.3->qiskit[visualization]==1.4.3) (2.9.0.post0)\n",
            "Requirement already satisfied: stevedore>=3.0.0 in /usr/local/lib/python3.11/dist-packages (from qiskit==1.4.3->qiskit[visualization]==1.4.3) (5.4.1)\n",
            "Requirement already satisfied: typing-extensions in /usr/local/lib/python3.11/dist-packages (from qiskit==1.4.3->qiskit[visualization]==1.4.3) (4.14.0)\n",
            "Requirement already satisfied: symengine<0.14,>=0.11 in /usr/local/lib/python3.11/dist-packages (from qiskit==1.4.3->qiskit[visualization]==1.4.3) (0.13.0)\n",
            "Requirement already satisfied: matplotlib>=3.3 in /usr/local/lib/python3.11/dist-packages (from qiskit[visualization]==1.4.3) (3.10.0)\n",
            "Requirement already satisfied: pydot in /usr/local/lib/python3.11/dist-packages (from qiskit[visualization]==1.4.3) (3.0.4)\n",
            "Requirement already satisfied: Pillow>=4.2.1 in /usr/local/lib/python3.11/dist-packages (from qiskit[visualization]==1.4.3) (11.2.1)\n",
            "Requirement already satisfied: pylatexenc>=1.4 in /usr/local/lib/python3.11/dist-packages (from qiskit[visualization]==1.4.3) (2.10)\n",
            "Requirement already satisfied: seaborn>=0.9.0 in /usr/local/lib/python3.11/dist-packages (from qiskit[visualization]==1.4.3) (0.13.2)\n",
            "Requirement already satisfied: contourpy>=1.0.1 in /usr/local/lib/python3.11/dist-packages (from matplotlib>=3.3->qiskit[visualization]==1.4.3) (1.3.2)\n",
            "Requirement already satisfied: cycler>=0.10 in /usr/local/lib/python3.11/dist-packages (from matplotlib>=3.3->qiskit[visualization]==1.4.3) (0.12.1)\n",
            "Requirement already satisfied: fonttools>=4.22.0 in /usr/local/lib/python3.11/dist-packages (from matplotlib>=3.3->qiskit[visualization]==1.4.3) (4.58.4)\n",
            "Requirement already satisfied: kiwisolver>=1.3.1 in /usr/local/lib/python3.11/dist-packages (from matplotlib>=3.3->qiskit[visualization]==1.4.3) (1.4.8)\n",
            "Requirement already satisfied: packaging>=20.0 in /usr/local/lib/python3.11/dist-packages (from matplotlib>=3.3->qiskit[visualization]==1.4.3) (24.2)\n",
            "Requirement already satisfied: pyparsing>=2.3.1 in /usr/local/lib/python3.11/dist-packages (from matplotlib>=3.3->qiskit[visualization]==1.4.3) (3.2.3)\n",
            "Requirement already satisfied: six>=1.5 in /usr/local/lib/python3.11/dist-packages (from python-dateutil>=2.8.0->qiskit==1.4.3->qiskit[visualization]==1.4.3) (1.17.0)\n",
            "Requirement already satisfied: pandas>=1.2 in /usr/local/lib/python3.11/dist-packages (from seaborn>=0.9.0->qiskit[visualization]==1.4.3) (2.2.2)\n",
            "Requirement already satisfied: pytz>=2020.1 in /usr/local/lib/python3.11/dist-packages (from pandas>=1.2->seaborn>=0.9.0->qiskit[visualization]==1.4.3) (2025.2)\n",
            "Requirement already satisfied: tzdata>=2022.7 in /usr/local/lib/python3.11/dist-packages (from pandas>=1.2->seaborn>=0.9.0->qiskit[visualization]==1.4.3) (2025.2)\n",
            "Requirement already satisfied: pbr>=2.0.0 in /usr/local/lib/python3.11/dist-packages (from stevedore>=3.0.0->qiskit==1.4.3->qiskit[visualization]==1.4.3) (6.1.1)\n",
            "Requirement already satisfied: setuptools in /usr/local/lib/python3.11/dist-packages (from pbr>=2.0.0->stevedore>=3.0.0->qiskit==1.4.3->qiskit[visualization]==1.4.3) (75.2.0)\n",
            "Requirement already satisfied: mpmath<1.4,>=1.1.0 in /usr/local/lib/python3.11/dist-packages (from sympy>=1.3->qiskit==1.4.3->qiskit[visualization]==1.4.3) (1.3.0)\n",
            "Requirement already satisfied: azure-quantum==3.1.0 in /usr/local/lib/python3.11/dist-packages (from azure-quantum[qiskit]==3.1.0) (3.1.0)\n",
            "Requirement already satisfied: azure-core<2.0,>=1.30 in /usr/local/lib/python3.11/dist-packages (from azure-quantum==3.1.0->azure-quantum[qiskit]==3.1.0) (1.34.0)\n",
            "Requirement already satisfied: azure-identity<2.0,>=1.17 in /usr/local/lib/python3.11/dist-packages (from azure-quantum==3.1.0->azure-quantum[qiskit]==3.1.0) (1.23.0)\n",
            "Requirement already satisfied: azure-storage-blob==12.20 in /usr/local/lib/python3.11/dist-packages (from azure-quantum==3.1.0->azure-quantum[qiskit]==3.1.0) (12.20.0)\n",
            "Requirement already satisfied: msrest<1.0,>=0.7.1 in /usr/local/lib/python3.11/dist-packages (from azure-quantum==3.1.0->azure-quantum[qiskit]==3.1.0) (0.7.1)\n",
            "Requirement already satisfied: numpy<2.0,>=1.21.0 in /usr/local/lib/python3.11/dist-packages (from azure-quantum==3.1.0->azure-quantum[qiskit]==3.1.0) (1.26.4)\n",
            "Requirement already satisfied: deprecated<2.0,>=1.2.12 in /usr/local/lib/python3.11/dist-packages (from azure-quantum==3.1.0->azure-quantum[qiskit]==3.1.0) (1.2.18)\n",
            "Requirement already satisfied: Markdown>=3.4.1 in /usr/local/lib/python3.11/dist-packages (from azure-quantum==3.1.0->azure-quantum[qiskit]==3.1.0) (3.8.2)\n",
            "Requirement already satisfied: python-markdown-math>=0.8 in /usr/local/lib/python3.11/dist-packages (from azure-quantum==3.1.0->azure-quantum[qiskit]==3.1.0) (0.9)\n",
            "Requirement already satisfied: qiskit-ionq<0.6,>=0.5 in /usr/local/lib/python3.11/dist-packages (from azure-quantum[qiskit]==3.1.0) (0.5.13)\n",
            "Requirement already satisfied: qsharp<2.0,>=1.9.0 in /usr/local/lib/python3.11/dist-packages (from qsharp[qiskit]<2.0,>=1.9.0; extra == \"qiskit\"->azure-quantum[qiskit]==3.1.0) (1.18.0)\n",
            "Requirement already satisfied: pyqir<0.11,>=0.10.6 in /usr/local/lib/python3.11/dist-packages (from azure-quantum[qiskit]==3.1.0) (0.10.9)\n",
            "Requirement already satisfied: cryptography>=2.1.4 in /usr/local/lib/python3.11/dist-packages (from azure-storage-blob==12.20->azure-quantum==3.1.0->azure-quantum[qiskit]==3.1.0) (43.0.3)\n",
            "Requirement already satisfied: typing-extensions>=4.6.0 in /usr/local/lib/python3.11/dist-packages (from azure-storage-blob==12.20->azure-quantum==3.1.0->azure-quantum[qiskit]==3.1.0) (4.14.0)\n",
            "Requirement already satisfied: isodate>=0.6.1 in /usr/local/lib/python3.11/dist-packages (from azure-storage-blob==12.20->azure-quantum==3.1.0->azure-quantum[qiskit]==3.1.0) (0.7.2)\n",
            "Requirement already satisfied: requests>=2.21.0 in /usr/local/lib/python3.11/dist-packages (from azure-core<2.0,>=1.30->azure-quantum==3.1.0->azure-quantum[qiskit]==3.1.0) (2.32.3)\n",
            "Requirement already satisfied: six>=1.11.0 in /usr/local/lib/python3.11/dist-packages (from azure-core<2.0,>=1.30->azure-quantum==3.1.0->azure-quantum[qiskit]==3.1.0) (1.17.0)\n",
            "Requirement already satisfied: msal>=1.30.0 in /usr/local/lib/python3.11/dist-packages (from azure-identity<2.0,>=1.17->azure-quantum==3.1.0->azure-quantum[qiskit]==3.1.0) (1.32.3)\n",
            "Requirement already satisfied: msal-extensions>=1.2.0 in /usr/local/lib/python3.11/dist-packages (from azure-identity<2.0,>=1.17->azure-quantum==3.1.0->azure-quantum[qiskit]==3.1.0) (1.3.1)\n",
            "Requirement already satisfied: wrapt<2,>=1.10 in /usr/local/lib/python3.11/dist-packages (from deprecated<2.0,>=1.2.12->azure-quantum==3.1.0->azure-quantum[qiskit]==3.1.0) (1.17.2)\n",
            "Requirement already satisfied: certifi>=2017.4.17 in /usr/local/lib/python3.11/dist-packages (from msrest<1.0,>=0.7.1->azure-quantum==3.1.0->azure-quantum[qiskit]==3.1.0) (2025.6.15)\n",
            "Requirement already satisfied: requests-oauthlib>=0.5.0 in /usr/local/lib/python3.11/dist-packages (from msrest<1.0,>=0.7.1->azure-quantum==3.1.0->azure-quantum[qiskit]==3.1.0) (2.0.0)\n",
            "Requirement already satisfied: decorator>=5.1.0 in /usr/local/lib/python3.11/dist-packages (from qiskit-ionq<0.6,>=0.5->azure-quantum[qiskit]==3.1.0) (5.2.1)\n",
            "Requirement already satisfied: importlib-metadata>=4.11.4 in /usr/local/lib/python3.11/dist-packages (from qiskit-ionq<0.6,>=0.5->azure-quantum[qiskit]==3.1.0) (8.7.0)\n",
            "Requirement already satisfied: python-dotenv>=1.0.1 in /usr/local/lib/python3.11/dist-packages (from qiskit-ionq<0.6,>=0.5->azure-quantum[qiskit]==3.1.0) (1.1.1)\n",
            "Requirement already satisfied: qiskit<2.0.0 in /usr/local/lib/python3.11/dist-packages (from qiskit-ionq<0.6,>=0.5->azure-quantum[qiskit]==3.1.0) (1.4.3)\n",
            "Requirement already satisfied: rustworkx>=0.15.0 in /usr/local/lib/python3.11/dist-packages (from qiskit<2.0.0->qiskit-ionq<0.6,>=0.5->azure-quantum[qiskit]==3.1.0) (0.16.0)\n",
            "Requirement already satisfied: scipy>=1.5 in /usr/local/lib/python3.11/dist-packages (from qiskit<2.0.0->qiskit-ionq<0.6,>=0.5->azure-quantum[qiskit]==3.1.0) (1.15.3)\n",
            "Requirement already satisfied: sympy>=1.3 in /usr/local/lib/python3.11/dist-packages (from qiskit<2.0.0->qiskit-ionq<0.6,>=0.5->azure-quantum[qiskit]==3.1.0) (1.13.1)\n",
            "Requirement already satisfied: dill>=0.3 in /usr/local/lib/python3.11/dist-packages (from qiskit<2.0.0->qiskit-ionq<0.6,>=0.5->azure-quantum[qiskit]==3.1.0) (0.3.7)\n",
            "Requirement already satisfied: python-dateutil>=2.8.0 in /usr/local/lib/python3.11/dist-packages (from qiskit<2.0.0->qiskit-ionq<0.6,>=0.5->azure-quantum[qiskit]==3.1.0) (2.9.0.post0)\n",
            "Requirement already satisfied: stevedore>=3.0.0 in /usr/local/lib/python3.11/dist-packages (from qiskit<2.0.0->qiskit-ionq<0.6,>=0.5->azure-quantum[qiskit]==3.1.0) (5.4.1)\n",
            "Requirement already satisfied: symengine<0.14,>=0.11 in /usr/local/lib/python3.11/dist-packages (from qiskit<2.0.0->qiskit-ionq<0.6,>=0.5->azure-quantum[qiskit]==3.1.0) (0.13.0)\n",
            "Requirement already satisfied: charset-normalizer<4,>=2 in /usr/local/lib/python3.11/dist-packages (from requests>=2.21.0->azure-core<2.0,>=1.30->azure-quantum==3.1.0->azure-quantum[qiskit]==3.1.0) (3.4.2)\n",
            "Requirement already satisfied: idna<4,>=2.5 in /usr/local/lib/python3.11/dist-packages (from requests>=2.21.0->azure-core<2.0,>=1.30->azure-quantum==3.1.0->azure-quantum[qiskit]==3.1.0) (3.10)\n",
            "Requirement already satisfied: urllib3<3,>=1.21.1 in /usr/local/lib/python3.11/dist-packages (from requests>=2.21.0->azure-core<2.0,>=1.30->azure-quantum==3.1.0->azure-quantum[qiskit]==3.1.0) (2.4.0)\n",
            "Requirement already satisfied: cffi>=1.12 in /usr/local/lib/python3.11/dist-packages (from cryptography>=2.1.4->azure-storage-blob==12.20->azure-quantum==3.1.0->azure-quantum[qiskit]==3.1.0) (1.17.1)\n",
            "Requirement already satisfied: pycparser in /usr/local/lib/python3.11/dist-packages (from cffi>=1.12->cryptography>=2.1.4->azure-storage-blob==12.20->azure-quantum==3.1.0->azure-quantum[qiskit]==3.1.0) (2.22)\n",
            "Requirement already satisfied: zipp>=3.20 in /usr/local/lib/python3.11/dist-packages (from importlib-metadata>=4.11.4->qiskit-ionq<0.6,>=0.5->azure-quantum[qiskit]==3.1.0) (3.23.0)\n",
            "Requirement already satisfied: PyJWT<3,>=1.0.0 in /usr/local/lib/python3.11/dist-packages (from PyJWT[crypto]<3,>=1.0.0->msal>=1.30.0->azure-identity<2.0,>=1.17->azure-quantum==3.1.0->azure-quantum[qiskit]==3.1.0) (2.10.1)\n",
            "Requirement already satisfied: oauthlib>=3.0.0 in /usr/local/lib/python3.11/dist-packages (from requests-oauthlib>=0.5.0->msrest<1.0,>=0.7.1->azure-quantum==3.1.0->azure-quantum[qiskit]==3.1.0) (3.3.1)\n",
            "Requirement already satisfied: pbr>=2.0.0 in /usr/local/lib/python3.11/dist-packages (from stevedore>=3.0.0->qiskit<2.0.0->qiskit-ionq<0.6,>=0.5->azure-quantum[qiskit]==3.1.0) (6.1.1)\n",
            "Requirement already satisfied: setuptools in /usr/local/lib/python3.11/dist-packages (from pbr>=2.0.0->stevedore>=3.0.0->qiskit<2.0.0->qiskit-ionq<0.6,>=0.5->azure-quantum[qiskit]==3.1.0) (75.2.0)\n",
            "Requirement already satisfied: mpmath<1.4,>=1.1.0 in /usr/local/lib/python3.11/dist-packages (from sympy>=1.3->qiskit<2.0.0->qiskit-ionq<0.6,>=0.5->azure-quantum[qiskit]==3.1.0) (1.3.0)\n"
          ]
        }
      ],
      "source": [
        "!pip install -U pip\n",
        "!pip install qiskit[visualization]==1.4.3\n",
        "!pip install azure-quantum[qiskit]==3.1.0"
      ]
    },
    {
      "cell_type": "code",
      "source": [
        "# Creating a new Workspace object from a connection string\n",
        "from azure.quantum import Workspace\n",
        "\n",
        "connection_string = \"\"\n",
        "workspace = Workspace.from_connection_string(connection_string)\n",
        "\n",
        "print(workspace.get_targets())"
      ],
      "metadata": {
        "id": "YT-ELFqIS8Cg",
        "outputId": "13f0253b-99db-4a3a-d564-aaaf5aef5573",
        "colab": {
          "base_uri": "https://localhost:8080/"
        }
      },
      "execution_count": null,
      "outputs": [
        {
          "output_type": "stream",
          "name": "stdout",
          "text": [
            "[<Target name=\"quantinuum.sim.h1-1sc\", avg. queue time=0 s, TargetAvailability.AVAILABLE>, <Target name=\"quantinuum.sim.h1-1e\", avg. queue time=0 s, TargetAvailability.AVAILABLE>, <Target name=\"ionq.qpu.aria-1\", avg. queue time=0 s, TargetAvailability.UNAVAILABLE>, <Target name=\"ionq.qpu.aria-2\", avg. queue time=0 s, TargetAvailability.UNAVAILABLE>, <Target name=\"ionq.simulator\", avg. queue time=0 s, TargetAvailability.AVAILABLE>, <Target name=\"rigetti.sim.qvm\", avg. queue time=5 s, TargetAvailability.AVAILABLE>, <Target name=\"rigetti.qpu.ankaa-3\", avg. queue time=5 s, TargetAvailability.AVAILABLE>, <Target name=\"pasqal.sim.emu-tn\", avg. queue time=527 s, TargetAvailability.AVAILABLE>, <Target name=\"pasqal.qpu.fresnel\", avg. queue time=40005 s, TargetAvailability.AVAILABLE>]\n"
          ]
        }
      ]
    },
    {
      "cell_type": "code",
      "source": [
        "from azure.quantum.qiskit import AzureQuantumProvider\n",
        "provider = AzureQuantumProvider(workspace=workspace)\n",
        "print(provider.backends())"
      ],
      "metadata": {
        "colab": {
          "base_uri": "https://localhost:8080/",
          "height": 55
        },
        "id": "2DTmVRJr2aK8",
        "outputId": "a335aa16-24de-4bef-d804-1bad3ff854c4"
      },
      "execution_count": null,
      "outputs": [
        {
          "output_type": "display_data",
          "data": {
            "text/plain": [],
            "application/javascript": [
              "// Copyright (c) Microsoft Corporation.\n",
              "// Licensed under the MIT License.\n",
              "\n",
              "// This file provides CodeMirror syntax highlighting for Q# magic cells\n",
              "// in classic Jupyter Notebooks. It does nothing in other (Jupyter Notebook 7,\n",
              "// VS Code, Azure Notebooks, etc.) environments.\n",
              "\n",
              "// Detect the prerequisites and do nothing if they don't exist.\n",
              "if (window.require && window.CodeMirror && window.Jupyter) {\n",
              "  // The simple mode plugin for CodeMirror is not loaded by default, so require it.\n",
              "  window.require([\"codemirror/addon/mode/simple\"], function defineMode() {\n",
              "    let rules = [\n",
              "      {\n",
              "        token: \"comment\",\n",
              "        regex: /(\\/\\/).*/,\n",
              "        beginWord: false,\n",
              "      },\n",
              "      {\n",
              "        token: \"string\",\n",
              "        regex: String.raw`^\\\"(?:[^\\\"\\\\]|\\\\[\\s\\S])*(?:\\\"|$)`,\n",
              "        beginWord: false,\n",
              "      },\n",
              "      {\n",
              "        token: \"keyword\",\n",
              "        regex: String.raw`(namespace|open|as|operation|function|body|adjoint|newtype|controlled|internal)\\b`,\n",
              "        beginWord: true,\n",
              "      },\n",
              "      {\n",
              "        token: \"keyword\",\n",
              "        regex: String.raw`(if|elif|else|repeat|until|fixup|for|in|return|fail|within|apply)\\b`,\n",
              "        beginWord: true,\n",
              "      },\n",
              "      {\n",
              "        token: \"keyword\",\n",
              "        regex: String.raw`(Adjoint|Controlled|Adj|Ctl|is|self|auto|distribute|invert|intrinsic)\\b`,\n",
              "        beginWord: true,\n",
              "      },\n",
              "      {\n",
              "        token: \"keyword\",\n",
              "        regex: String.raw`(let|set|use|borrow|mutable)\\b`,\n",
              "        beginWord: true,\n",
              "      },\n",
              "      {\n",
              "        token: \"operatorKeyword\",\n",
              "        regex: String.raw`(not|and|or)\\b|(w/)`,\n",
              "        beginWord: true,\n",
              "      },\n",
              "      {\n",
              "        token: \"operatorKeyword\",\n",
              "        regex: String.raw`(=)|(!)|(<)|(>)|(\\+)|(-)|(\\*)|(/)|(\\^)|(%)|(\\|)|(&&&)|(~~~)|(\\.\\.\\.)|(\\.\\.)|(\\?)`,\n",
              "        beginWord: false,\n",
              "      },\n",
              "      {\n",
              "        token: \"meta\",\n",
              "        regex: String.raw`(Int|BigInt|Double|Bool|Qubit|Pauli|Result|Range|String|Unit)\\b`,\n",
              "        beginWord: true,\n",
              "      },\n",
              "      {\n",
              "        token: \"atom\",\n",
              "        regex: String.raw`(true|false|Pauli(I|X|Y|Z)|One|Zero)\\b`,\n",
              "        beginWord: true,\n",
              "      },\n",
              "    ];\n",
              "    let simpleRules = [];\n",
              "    for (let rule of rules) {\n",
              "      simpleRules.push({\n",
              "        token: rule.token,\n",
              "        regex: new RegExp(rule.regex, \"g\"),\n",
              "        sol: rule.beginWord,\n",
              "      });\n",
              "      if (rule.beginWord) {\n",
              "        // Need an additional rule due to the fact that CodeMirror simple mode doesn't work with ^ token\n",
              "        simpleRules.push({\n",
              "          token: rule.token,\n",
              "          regex: new RegExp(String.raw`\\W` + rule.regex, \"g\"),\n",
              "          sol: false,\n",
              "        });\n",
              "      }\n",
              "    }\n",
              "\n",
              "    // Register the mode defined above with CodeMirror\n",
              "    window.CodeMirror.defineSimpleMode(\"qsharp\", { start: simpleRules });\n",
              "    window.CodeMirror.defineMIME(\"text/x-qsharp\", \"qsharp\");\n",
              "\n",
              "    // Tell Jupyter to associate %%qsharp magic cells with the qsharp mode\n",
              "    window.Jupyter.CodeCell.options_default.highlight_modes[\"qsharp\"] = {\n",
              "      reg: [/^%%qsharp/],\n",
              "    };\n",
              "\n",
              "    // Force re-highlighting of all cells the first time this code runs\n",
              "    for (const cell of window.Jupyter.notebook.get_cells()) {\n",
              "      cell.auto_highlight();\n",
              "    }\n",
              "  });\n",
              "}\n"
            ]
          },
          "metadata": {}
        },
        {
          "output_type": "stream",
          "name": "stdout",
          "text": [
            "[<IonQSimulatorQirBackend('ionq.simulator')>, <IonQAriaQirBackend('ionq.qpu.aria-1')>, <IonQAriaQirBackend('ionq.qpu.aria-2')>, <QuantinuumSyntaxCheckerQirBackend('quantinuum.sim.h1-1sc')>, <QuantinuumEmulatorQirBackend('quantinuum.sim.h1-1e')>, <RigettiSimulatorBackend('rigetti.sim.qvm')>, <RigettiQPUBackend('rigetti.qpu.ankaa-3')>]\n"
          ]
        }
      ]
    },
    {
      "cell_type": "code",
      "source": [
        "backend = provider.get_backend(\"ionq.simulator\")\n",
        "backend"
      ],
      "metadata": {
        "id": "IhPLDdadSpJQ",
        "outputId": "55c15aaf-f2ac-42ba-a3f0-29daa6d1060d",
        "colab": {
          "base_uri": "https://localhost:8080/"
        }
      },
      "execution_count": null,
      "outputs": [
        {
          "output_type": "execute_result",
          "data": {
            "text/plain": [
              "<IonQSimulatorQirBackend('ionq.simulator')>"
            ]
          },
          "metadata": {},
          "execution_count": 4
        }
      ]
    },
    {
      "cell_type": "code",
      "source": [
        "from qiskit import QuantumCircuit\n",
        "\n",
        "circuit = QuantumCircuit(3)\n",
        "circuit.h(0)\n",
        "circuit.cx(0, 1)\n",
        "circuit.cx(0, 2)\n",
        "circuit.measure_all()\n",
        "circuit.draw(\"mpl\")"
      ],
      "metadata": {
        "colab": {
          "base_uri": "https://localhost:8080/",
          "height": 320
        },
        "id": "t0tXM48IVua2",
        "outputId": "109c68f8-be51-4713-e819-4919d2f12cf1"
      },
      "execution_count": null,
      "outputs": [
        {
          "output_type": "execute_result",
          "data": {
            "text/plain": [
              "<Figure size 747.609x367.889 with 1 Axes>"
            ],
            "image/png": "[encoded data removed]"
          },
          "metadata": {},
          "execution_count": 5
        }
      ]
    },
    {
      "cell_type": "code",
      "source": [
        "from qiskit.compiler import transpile, assemble\n",
        "trans_qc = transpile(circuit, backend)\n",
        "trans_qc.draw(\"mpl\")"
      ],
      "metadata": {
        "colab": {
          "base_uri": "https://localhost:8080/",
          "height": 320
        },
        "id": "7XeFTYu-emzY",
        "outputId": "fd608829-7091-4b0d-8ee8-3c24c5efe399"
      },
      "execution_count": null,
      "outputs": [
        {
          "output_type": "execute_result",
          "data": {
            "text/plain": [
              "<Figure size 747.609x367.889 with 1 Axes>"
            ],
            "image/png": "[encoded data removed]"
          },
          "metadata": {},
          "execution_count": 6
        }
      ]
    },
    {
      "cell_type": "code",
      "source": [
        "from qiskit.providers.jobstatus import JobStatus\n",
        "import time\n",
        "\n",
        "job = backend.run(trans_qc, shots=1024)\n",
        "\n",
        "print(\"Job ID is\", job.job_id(),\"\\n\")\n",
        "\n",
        "# 제출된 잡에 대한 실행 상태 확인\n",
        "while job.status() is not JobStatus.DONE:\n",
        "\tprint(\"Job status is\", job.status() )\n",
        "\ttime.sleep(2)\n",
        "###while\n",
        "\n",
        "\n",
        "print(\"Job status is\", job.status() )\n",
        "\n",
        "# 결과 출력\n",
        "counts = job.result().get_counts()\n",
        "print(counts)"
      ],
      "metadata": {
        "colab": {
          "base_uri": "https://localhost:8080/"
        },
        "id": "wRmHO8ML1gJ1",
        "outputId": "2cade11c-0465-4343-e608-e3b1f5badc43"
      },
      "execution_count": null,
      "outputs": [
        {
          "output_type": "stream",
          "name": "stderr",
          "text": [
            "Traceback (most recent call last):\n",
            "  File \"/usr/local/lib/python3.11/dist-packages/debugpy/_vendored/pydevd/pydevd.py\", line 1877, in set_suspend\n",
            "    frame = None\n",
            "    ^^^^^\n",
            "RuntimeError: pyqir::values::Value is unsendable, but is being dropped on another thread\n",
            "Traceback (most recent call last):\n",
            "  File \"/usr/local/lib/python3.11/dist-packages/debugpy/_vendored/pydevd/pydevd.py\", line 1877, in set_suspend\n",
            "    frame = None\n",
            "    ^^^^^\n",
            "RuntimeError: pyqir::module::Module is unsendable, but is being dropped on another thread\n"
          ]
        },
        {
          "output_type": "stream",
          "name": "stdout",
          "text": [
            "Job ID is 47231730-522d-11f0-8ecd-0242ac1c000c \n",
            "\n",
            "Job status is JobStatus.QUEUED\n",
            "Job status is JobStatus.QUEUED\n",
            "Job status is JobStatus.QUEUED\n",
            "Job status is JobStatus.QUEUED\n",
            "Job status is JobStatus.QUEUED\n",
            "Job status is JobStatus.QUEUED\n",
            "Job status is JobStatus.RUNNING\n",
            "Job status is JobStatus.DONE\n",
            "{'000': 512, '111': 512}\n"
          ]
        }
      ]
    },
    {
      "cell_type": "code",
      "source": [
        "from qiskit.visualization import plot_histogram\n",
        "plot_histogram(data=counts)"
      ],
      "metadata": {
        "colab": {
          "base_uri": "https://localhost:8080/",
          "height": 446
        },
        "id": "hYn_-AuCWCHY",
        "outputId": "633a2558-b9e6-4f78-cffa-50381f2912b9"
      },
      "execution_count": null,
      "outputs": [
        {
          "output_type": "execute_result",
          "data": {
            "text/plain": [
              "<Figure size 640x480 with 1 Axes>"
            ],
            "image/png": "[encoded data removed]"
          },
          "metadata": {},
          "execution_count": 8
        }
      ]
    }
  ]
}